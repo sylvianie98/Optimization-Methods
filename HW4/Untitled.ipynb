{
 "cells": [
  {
   "cell_type": "markdown",
   "metadata": {},
   "source": [
    "Q4 a)"
   ]
  },
  {
   "cell_type": "code",
   "execution_count": 24,
   "metadata": {},
   "outputs": [],
   "source": [
    "from ortools.linear_solver import pywraplp\n",
    "import numpy as np\n",
    "import pandas as pd"
   ]
  },
  {
   "cell_type": "code",
   "execution_count": 25,
   "metadata": {},
   "outputs": [],
   "source": [
    "df = pd.read_excel(\"Call Center Req.xlsx\")\n",
    "# set variables\n",
    "# set xi,j = i hours shift and take rest at j time spot. x =  {x8,8 ; x8,9; x6,6; x6,7; x3}\n",
    "variables = [[0 for i in range(5)] for j in range(df.shape[0])]\n",
    "cost = [200,200,162,162,120]\n",
    "\n",
    "solver = pywraplp.Solver('Q3', pywraplp.Solver.CBC_MIXED_INTEGER_PROGRAMMING)\n",
    "objective = solver.Objective()\n",
    "objective.SetMinimization()\n",
    "\n",
    "#set variables x_i,j\n",
    "#x_i,j = variables[i][j] = number of worker starts work in i label time spot \n",
    "#and belongs to x[j] type while x = x =  {x8,8 ; x8,9; x6,6; x6,7; x3}\n",
    "#for example: x_1,2 = number of worker starts work in 1st label time spot (7:30 am) \n",
    "#and belongs to x6,6 (take 6 hours shift and take lunch break at 6th time spots)\n",
    "\n",
    "for i in range(len(variables)):\n",
    "    for j in range(len(variables[0])):\n",
    "        variables[i][j] = solver.IntVar(0, solver.infinity(), \"x_\"+str(i)+\",\"+str(j))\n",
    "        #set objective function\n",
    "        #to minimize(cost_total = sum(variables[i][j]*cost[j]))\n",
    "        cost_total = objective.SetCoefficient(variables[i][j], cost[j])\n"
   ]
  },
  {
   "cell_type": "code",
   "execution_count": 26,
   "metadata": {},
   "outputs": [],
   "source": [
    "\n",
    "#set constrains\n",
    "#for every x[i], we create a list that missing the lunch break.\n",
    "#for every actual_number[i][j] within the matrix variables,\n",
    "#we have lower limit of required_number[i][j].\n",
    "#for every actual_number[i][j] within the matrix variables,\n",
    "#we set coefficient = 0 during lunch break and coefficient = 1 else. \n",
    "\n",
    "list1 = [0,1,2,3,4,5,6,8,9,10,11,12,13,14,15]\n",
    "list2 = [0,1,2,3,4,5,6,7,9,10,11,12,13,14,15]\n",
    "list3 = [0,1,2,3,4,6,7,8,9,10,11]\n",
    "list4 = [0,1,2,3,4,5,7,8,9,10,11]\n",
    "list5 = [0,1,2,3,4,5]\n",
    "\n",
    "actual_number = [0 for i in range(len(variables))]\n",
    "required_number = list(df.iloc[:,2])\n",
    "\n",
    "for i in range(len(variables)):\n",
    "    actual_number[i] = solver.Constraint(required_number[i], solver.infinity())\n",
    "#x_8,8\n",
    "for i in range(len(variables)):\n",
    "    for j in list1:\n",
    "        if i + j <= len(variables) - 1:\n",
    "            actual_number[i+j].SetCoefficient(variables[i][0], 1)\n",
    "            \n",
    "#x_8,9\n",
    "for i in range(len(variables)):\n",
    "    for j in list2:\n",
    "        if i + j <= len(variables) - 1:\n",
    "            actual_number[i+j].SetCoefficient(variables[i][1], 1)\n",
    "        \n",
    "#x_6,6\n",
    "for i in range(len(variables)):\n",
    "    for j in list3:\n",
    "        if i + j <= len(variables) - 1:\n",
    "            actual_number[i+j].SetCoefficient(variables[i][2], 1)\n",
    "\n",
    "#x_6,7\n",
    "for i in range(len(variables)):\n",
    "    for j in list4:\n",
    "        if i + j <= len(variables) - 1:\n",
    "            actual_number[i+j].SetCoefficient(variables[i][3], 1)\n",
    "\n",
    "#x_3\n",
    "for i in range(len(variables)):\n",
    "    for j in list5:\n",
    "        if i + j <= len(variables) - 1:\n",
    "            actual_number[i+j].SetCoefficient(variables[i][4], 1)\n",
    "        \n",
    "status = solver.Solve()"
   ]
  },
  {
   "cell_type": "markdown",
   "metadata": {},
   "source": [
    "Q4 b)"
   ]
  },
  {
   "cell_type": "code",
   "execution_count": 27,
   "metadata": {},
   "outputs": [
    {
     "name": "stdout",
     "output_type": "stream",
     "text": [
      "Solver reaches the optimal solution with objective function = 21596.0\n",
      "[[ 3.  0.  2.  0.  0.]\n",
      " [ 0.  3.  2.  0.  0.]\n",
      " [ 0.  0.  5.  0.  0.]\n",
      " [ 0.  0.  6.  1.  0.]\n",
      " [ 0.  2.  0.  3.  0.]\n",
      " [ 3.  6.  0.  0.  0.]\n",
      " [ 0.  2.  8.  0.  1.]\n",
      " [ 0.  0.  0.  1. 10.]\n",
      " [ 0.  0.  0.  0.  5.]\n",
      " [ 4.  1.  0.  0.  0.]\n",
      " [ 5.  0.  0.  0.  0.]\n",
      " [ 3.  7.  0.  0.  0.]\n",
      " [ 0. 10.  0.  0.  0.]\n",
      " [ 0.  4.  0.  0.  0.]\n",
      " [ 0.  0.  0.  0.  0.]\n",
      " [ 0.  0.  0.  0.  0.]\n",
      " [ 5.  0.  0.  0.  0.]\n",
      " [ 0.  0.  0.  0.  0.]\n",
      " [ 0.  0.  0.  0.  0.]\n",
      " [ 0.  0.  0.  0.  0.]\n",
      " [ 0.  0.  0.  0.  0.]\n",
      " [ 0.  0.  0.  3.  0.]\n",
      " [ 0.  0.  2.  1.  0.]\n",
      " [ 0.  0.  4.  0. 11.]\n",
      " [ 0.  0.  0.  0.  5.]\n",
      " [ 0.  0.  0.  0.  0.]\n",
      " [ 0.  0.  0.  0.  0.]\n",
      " [ 0.  0.  0.  0.  0.]\n",
      " [ 0.  0.  0.  0.  0.]\n",
      " [ 0.  0.  0.  0.  0.]\n",
      " [ 0.  0.  0.  0.  0.]\n",
      " [ 0.  0.  0.  0.  0.]]\n"
     ]
    }
   ],
   "source": [
    "#find the optimal solution by solver\n",
    "if status == solver.OPTIMAL:\n",
    "    print(\"Solver reaches the optimal solution with objective function = \" + str(objective.Value()))\n",
    "\n",
    "else:\n",
    "    print('Solver cannot find optimal solution')\n",
    "    \n",
    "x = np.zeros((len(variables),5))\n",
    "for i in range(len(variables)):\n",
    "    for j in range(5):\n",
    "        x[i][j] = variables[i][j].solution_value()\n",
    "print(x)"
   ]
  }
 ],
 "metadata": {
  "kernelspec": {
   "display_name": "Python 3",
   "language": "python",
   "name": "python3"
  },
  "language_info": {
   "codemirror_mode": {
    "name": "ipython",
    "version": 3
   },
   "file_extension": ".py",
   "mimetype": "text/x-python",
   "name": "python",
   "nbconvert_exporter": "python",
   "pygments_lexer": "ipython3",
   "version": "3.7.4"
  }
 },
 "nbformat": 4,
 "nbformat_minor": 2
}
